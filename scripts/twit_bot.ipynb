{
 "cells": [
  {
   "cell_type": "code",
   "execution_count": 15,
   "metadata": {},
   "outputs": [],
   "source": [
    "import tweepy\n",
    "import pandas as pd\n",
    "import numpy as np\n",
    "from bs4 import BeautifulSoup\n",
    "import re\n",
    "import psycopg2\n",
    "import datetime as dt\n",
    "from tabulate import tabulate\n",
    "import requests\n",
    "import base64\n",
    "\n",
    "pd.set_option(\"display.max_columns\", None)\n"
   ]
  },
  {
   "cell_type": "code",
   "execution_count": 2,
   "metadata": {},
   "outputs": [
    {
     "name": "stdout",
     "output_type": "stream",
     "text": [
      "El precio anterior es $43354.810000000005\n",
      "El precio actual es $52402.0\n",
      "La variación media de precio de los productos de la canasta básica es del 26.66 %\n"
     ]
    }
   ],
   "source": [
    "listado_precios = pd.read_csv('../airflow/data/precios.csv', sep=',', encoding='latin-1')\n",
    "\n",
    "lista_variaciones = {}\n",
    "for producto in listado_precios:\n",
    "    if producto == 'fecha':\n",
    "        continue\n",
    "    elif producto == 'id':\n",
    "        continue\n",
    "    else:\n",
    "        variacion = (listado_precios[producto].iloc[-1] / listado_precios[producto].iloc[0] - 1) * 100\n",
    "        lista_variaciones[producto] = variacion\n",
    "        \n",
    "precio_anterior = sum(listado_precios.iloc[0, 2:])\n",
    "precio_actual = sum(listado_precios.iloc[-1, 2:])\n",
    "print(f\"El precio anterior es ${precio_anterior}\")\n",
    "print(f\"El precio actual es ${precio_actual}\")\n",
    "suma = sum(lista_variaciones.values()) / len(lista_variaciones)\n",
    "print('La variación media de precio de los productos de la canasta básica es del', round(suma, 2), '%')"
   ]
  },
  {
   "cell_type": "code",
   "execution_count": 3,
   "metadata": {},
   "outputs": [
    {
     "name": "stderr",
     "output_type": "stream",
     "text": [
      "C:\\Users\\ismael\\AppData\\Local\\Temp\\ipykernel_22852\\2461419181.py:19: UserWarning: pandas only supports SQLAlchemy connectable (engine/connection) or database string URI or sqlite3 DBAPI2 connection. Other DBAPI2 objects are not tested. Please consider using SQLAlchemy.\n",
      "  df = pd.read_sql(query, conn)\n",
      "C:\\Users\\ismael\\AppData\\Local\\Temp\\ipykernel_22852\\2461419181.py:30: UserWarning: pandas only supports SQLAlchemy connectable (engine/connection) or database string URI or sqlite3 DBAPI2 connection. Other DBAPI2 objects are not tested. Please consider using SQLAlchemy.\n",
      "  df2 = pd.read_sql(query, conn)\n"
     ]
    }
   ],
   "source": [
    "conn = psycopg2.connect(\n",
    "    host=\"canasta-2.crdqtsbdpist.us-east-2.rds.amazonaws.com\",\n",
    "    database=\"postgres\",\n",
    "    user=\"postgres\",\n",
    "    password=\"postgres\"\n",
    ")\n",
    "# obtengo la fecha de hoy\n",
    "\n",
    "fecha = dt.datetime.now().strftime(\"%Y-%m-%d\")\n",
    "primer_dia_mes_actual = dt.datetime.now().replace(day=1)\n",
    "# traigo de la base de datos la última fecha \n",
    "\n",
    "query = f\"\"\"\n",
    "SELECT *\n",
    "FROM precios_lista_larga\n",
    "WHERE fecha = '{fecha}'\n",
    "\"\"\"\n",
    "\n",
    "df = pd.read_sql(query, conn)\n",
    "\n",
    "\n",
    "# Traigo los precios de la base de datos del prime dia del mes actual\n",
    "\n",
    "query = f\"\"\"\n",
    "SELECT *\n",
    "FROM precios_lista_larga\n",
    "WHERE fecha = '{primer_dia_mes_actual}'\n",
    "\"\"\"\n",
    "\n",
    "df2 = pd.read_sql(query, conn)\n",
    "\n",
    "conn.close()\n",
    "\n",
    "# armo una funcion de esto\n",
    "\n",
    "\n",
    "\n",
    "\n"
   ]
  },
  {
   "cell_type": "code",
   "execution_count": 4,
   "metadata": {},
   "outputs": [
    {
     "name": "stdout",
     "output_type": "stream",
     "text": [
      "<class 'pandas.core.frame.DataFrame'>\n",
      "RangeIndex: 63 entries, 0 to 62\n",
      "Data columns (total 4 columns):\n",
      " #   Column    Non-Null Count  Dtype  \n",
      "---  ------    --------------  -----  \n",
      " 0   fecha     63 non-null     object \n",
      " 1   producto  63 non-null     object \n",
      " 2   precio    63 non-null     float64\n",
      " 3   id        63 non-null     int64  \n",
      "dtypes: float64(1), int64(1), object(2)\n",
      "memory usage: 2.1+ KB\n",
      "None\n",
      "<class 'pandas.core.frame.DataFrame'>\n",
      "RangeIndex: 63 entries, 0 to 62\n",
      "Data columns (total 4 columns):\n",
      " #   Column    Non-Null Count  Dtype  \n",
      "---  ------    --------------  -----  \n",
      " 0   fecha     63 non-null     object \n",
      " 1   producto  63 non-null     object \n",
      " 2   precio    63 non-null     float64\n",
      " 3   id        63 non-null     int64  \n",
      "dtypes: float64(1), int64(1), object(2)\n",
      "memory usage: 2.1+ KB\n",
      "None\n"
     ]
    }
   ],
   "source": [
    "fecha_actual = df\n",
    "primer_dia_mes = df2\n",
    "print(fecha_actual.info())\n",
    "print(primer_dia_mes.info())"
   ]
  },
  {
   "cell_type": "code",
   "execution_count": 5,
   "metadata": {},
   "outputs": [],
   "source": [
    "# Si un producto de fecha_actual tiene precio 0, lo remuevo de primer_dia_mes\n",
    "\n",
    "for producto in fecha_actual['producto']:\n",
    "    if fecha_actual[fecha_actual['producto'] == producto]['precio'].iloc[0] == 0:\n",
    "        primer_dia_mes.drop(primer_dia_mes[primer_dia_mes['producto'] == producto].index, inplace=True)\n",
    "    \n",
    "# remuevo los productos con precio 0 de fecha_actual\n",
    "\n",
    "fecha_actual.drop(fecha_actual[fecha_actual['precio'] == 0].index, inplace=True)\n",
    "\n",
    "\n",
    "\n",
    "\n"
   ]
  },
  {
   "cell_type": "code",
   "execution_count": 6,
   "metadata": {},
   "outputs": [
    {
     "name": "stdout",
     "output_type": "stream",
     "text": [
      "La variacion de precios de la canasta básica en el mes de Mayo al dia 27 es del 8.59%\n"
     ]
    }
   ],
   "source": [
    "# sumo los precios de fecha_actual y primer_dia_mes\n",
    "\n",
    "precio_anterior = sum(primer_dia_mes['precio'])\n",
    "precio_actual = sum(fecha_actual['precio'])\n",
    "\n",
    "# calculo la variación\n",
    "\n",
    "variacion = (precio_actual / precio_anterior - 1) * 100\n",
    "\n",
    "# obtengo el nombre del mes en español y numero del dia\n",
    "\n",
    "\n",
    "\n",
    "\n",
    "nombre_mes_completo = fecha_actual['fecha'].iloc[0].strftime(\"%B\")\n",
    "# paso mes a español\n",
    "\n",
    "meses = {\n",
    "    'January': 'Enero',\n",
    "    'February': 'Febrero',\n",
    "    'March': 'Marzo',\n",
    "    'April': 'Abril',\n",
    "    'May': 'Mayo',\n",
    "    'June': 'Junio',\n",
    "    'July': 'Julio',\n",
    "    'August': 'Agosto',\n",
    "    'September': 'Septiembre',\n",
    "    'October': 'Octubre',\n",
    "    'November': 'Noviembre',\n",
    "    'December': 'Diciembre'\n",
    "}\n",
    "\n",
    "nombre_mes = meses[nombre_mes_completo]\n",
    "\n",
    "# obtengo el numero del dia y el nombre del dia\n",
    "\n",
    "numero_dia_y_nombre = fecha_actual['fecha'].iloc[0].strftime(\"%d\")\n",
    "\n",
    "numero_dia_y_numero = fecha_actual['fecha'].iloc[0].strftime(\"%d\")\n",
    "\n",
    "\n",
    "print(f\"La variacion de precios de la canasta básica en el mes de {nombre_mes} al dia {numero_dia_y_nombre} es del {round(variacion, 2)}%\")\n",
    "\n",
    "twit = f\"La variacion de precios de la canasta básica en el mes de {nombre_mes} al dia {numero_dia_y_nombre} es del {round(variacion, 2)}%\""
   ]
  },
  {
   "attachments": {},
   "cell_type": "markdown",
   "metadata": {},
   "source": [
    "Twitear el resultado"
   ]
  },
  {
   "cell_type": "code",
   "execution_count": 25,
   "metadata": {},
   "outputs": [
    {
     "ename": "Exception",
     "evalue": "No se pudo twittear",
     "output_type": "error",
     "traceback": [
      "\u001b[1;31m---------------------------------------------------------------------------\u001b[0m",
      "\u001b[1;31mException\u001b[0m                                 Traceback (most recent call last)",
      "Cell \u001b[1;32mIn[25], line 74\u001b[0m\n\u001b[0;32m     70\u001b[0m         \u001b[39mraise\u001b[39;00m \u001b[39mException\u001b[39;00m(\u001b[39m\"\u001b[39m\u001b[39mNo se pudo twittear\u001b[39m\u001b[39m\"\u001b[39m)\n\u001b[0;32m     72\u001b[0m     \u001b[39mreturn\u001b[39;00m response\u001b[39m.\u001b[39mjson()\n\u001b[1;32m---> 74\u001b[0m twittear_v2(\u001b[39m\"\u001b[39;49m\u001b[39m¡Hola, Twitter desde la API v2 de Twitter con Python y requests!\u001b[39;49m\u001b[39m\"\u001b[39;49m)\n",
      "Cell \u001b[1;32mIn[25], line 70\u001b[0m, in \u001b[0;36mtwittear_v2\u001b[1;34m(texto)\u001b[0m\n\u001b[0;32m     65\u001b[0m response \u001b[39m=\u001b[39m requests\u001b[39m.\u001b[39mpost(\u001b[39m\"\u001b[39m\u001b[39mhttps://api.twitter.com/2/tweets\u001b[39m\u001b[39m\"\u001b[39m,\n\u001b[0;32m     66\u001b[0m                          headers\u001b[39m=\u001b[39mheaders,\n\u001b[0;32m     67\u001b[0m                          json\u001b[39m=\u001b[39mdata)\n\u001b[0;32m     69\u001b[0m \u001b[39mif\u001b[39;00m response\u001b[39m.\u001b[39mstatus_code \u001b[39m!=\u001b[39m \u001b[39m201\u001b[39m:\n\u001b[1;32m---> 70\u001b[0m     \u001b[39mraise\u001b[39;00m \u001b[39mException\u001b[39;00m(\u001b[39m\"\u001b[39m\u001b[39mNo se pudo twittear\u001b[39m\u001b[39m\"\u001b[39m)\n\u001b[0;32m     72\u001b[0m \u001b[39mreturn\u001b[39;00m response\u001b[39m.\u001b[39mjson()\n",
      "\u001b[1;31mException\u001b[0m: No se pudo twittear"
     ]
    }
   ],
   "source": [
    "# credenciales de la api de twitter\n",
    "\n",
    "\n",
    "\n",
    "access_token = \"1662449848463900672-RJoVpQCKmM3MSjpgNlUqpw0yDejl2x\"\n",
    "secret_token = \"5KQlav9mP8s9XNhHIGW2doKc7GTlHgJXANNFj28kOsbyX\"\n",
    "api_key = \"pEAHT22z6YGad3iKo2y5S74SK\"\n",
    "api_secret_key = \"SQPGdU9bRz8xygsADdtvXEzQl3OctRwain7ftNvjFJ1aqIcQ6s\"\n",
    "bearer_token = \"\"\n",
    "client_id = \"aVBFc2FDTzFRYVFHNkhmdjkycVU6MTpjaQ\"\n",
    "client_secret = \"joDm6JJ7nsKyUbaE28yTdYiGd01DeAFpiZA1978mWi_E_u-neF\"\n",
    "\n",
    "# # twiteo con tweepy\n",
    "\n",
    "# client = tweepy.Client(bearer_token=bearer_token, consumer_key=api_key, consumer_secret=api_secret_key, access_token=access_token, access_token_secret=secret_token)\n",
    "\n",
    "# client.create_tweet(text=twit)\n",
    "\n",
    "\n",
    "# twiteo con requests creo una funcion para esto y uso la api v2\n",
    "\n",
    "bearer_token = \"AAAAAAAAAAAAAAAAAAAAAJ81nwEAAAAA4e%2BlUsyU5qUWKW81yZaVpXYFuzE%3Dm2YumulAw6QiCLY5LIMXyxpIdsQQW2nLTXmqWFwOFwS62VBpxY\"\n",
    "\n",
    "def obtener_tweets():\n",
    "    url = \"https://api.twitter.com/2/tweets\"\n",
    "\n",
    "    headers = {\n",
    "        \"Authorization\": f\"Bearer {bearer_token}\"\n",
    "    }\n",
    "\n",
    "    params = {\n",
    "        \"ids\": \"tweet_id_1,tweet_id_2\",  # Reemplaza con los IDs de los tweets que deseas obtener\n",
    "        \"tweet.fields\": \"created_at,public_metrics\"  # Campos de los tweets que deseas incluir en la respuesta\n",
    "    }\n",
    "\n",
    "    response = requests.get(url, headers=headers, params=params)\n",
    "\n",
    "    if response.status_code == 200:\n",
    "        return response.json()\n",
    "    else:\n",
    "        raise Exception(\"No se pudo obtener los tweets\")\n",
    "\n",
    "# Ejemplo de uso\n",
    "tweets = obtener_tweets()\n",
    "print(tweets)\n"
   ]
  }
 ],
 "metadata": {
  "kernelspec": {
   "display_name": "venv",
   "language": "python",
   "name": "python3"
  },
  "language_info": {
   "codemirror_mode": {
    "name": "ipython",
    "version": 3
   },
   "file_extension": ".py",
   "mimetype": "text/x-python",
   "name": "python",
   "nbconvert_exporter": "python",
   "pygments_lexer": "ipython3",
   "version": "3.10.11"
  },
  "orig_nbformat": 4
 },
 "nbformat": 4,
 "nbformat_minor": 2
}
