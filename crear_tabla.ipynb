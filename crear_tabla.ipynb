{
 "cells": [
  {
   "cell_type": "code",
   "execution_count": 1,
   "metadata": {},
   "outputs": [],
   "source": [
    "import psycopg2"
   ]
  },
  {
   "attachments": {},
   "cell_type": "markdown",
   "metadata": {},
   "source": [
    "### Crear tabla en postgresql"
   ]
  },
  {
   "attachments": {},
   "cell_type": "markdown",
   "metadata": {},
   "source": [
    "Mediante el listado obtenido del INDEC creamos un diccionario con ID y FECHA para luego crear una tabla en postgresql."
   ]
  },
  {
   "cell_type": "code",
   "execution_count": 2,
   "metadata": {},
   "outputs": [],
   "source": [
    "# Conexión a la base de datos\n",
    "conn = psycopg2.connect(\n",
    "    host=\"localhost\",\n",
    "    database=\"variacion\",\n",
    "    user=\"postgres\",\n",
    "    password=\"postgres\"\n",
    ")\n",
    "# tabla\n",
    "\n",
    "tabla = {'id': 'SERIAL PRIMARY KEY',\n",
    " 'fecha': 'DATE',\n",
    " 'Pan_Frances': 'FLOAT',\n",
    " 'Galletitas_dulces': 'FLOAT',\n",
    " 'Galletitas_de_agua': 'FLOAT',\n",
    " 'Harina_de_trigo': 'FLOAT',\n",
    " 'Harina_de_maiz': 'FLOAT',\n",
    " 'Arroz': 'FLOAT',\n",
    " 'Fideos_secos': 'FLOAT',\n",
    " 'Asado': 'FLOAT',\n",
    " 'Carnaza_comun': 'FLOAT',\n",
    " 'Hueso_con_carne': 'FLOAT',\n",
    " 'Paleta': 'FLOAT',\n",
    " 'Carne_picada': 'FLOAT',\n",
    " 'Nalga': 'FLOAT',\n",
    " 'Higado': 'FLOAT',\n",
    " 'Pechito_de_cerdo': 'FLOAT',\n",
    " 'Pollo': 'FLOAT',\n",
    " 'Carne_de_pescado': 'FLOAT',\n",
    " 'Mortadela': 'FLOAT',\n",
    " 'Paleta_cocida': 'FLOAT',\n",
    " 'Salchich¢n': 'FLOAT',\n",
    " 'Salame': 'FLOAT',\n",
    " 'Aceite_de_girasol': 'FLOAT',\n",
    " 'Margarina_para_cocinar': 'FLOAT',\n",
    " 'Leche_fluida': 'FLOAT',\n",
    " 'Leche_en_polvo_entera': 'FLOAT',\n",
    " 'Queso_crema': 'FLOAT',\n",
    " 'Queso_cuartirolo': 'FLOAT',\n",
    " 'Queso_de_rallar': 'FLOAT',\n",
    " 'Manteca': 'FLOAT',\n",
    " 'Yogur': 'FLOAT',\n",
    " 'Dulce_de_leche': 'FLOAT',\n",
    " 'Huevo': 'FLOAT',\n",
    " 'Manzana': 'FLOAT',\n",
    " 'Naranja': 'FLOAT',\n",
    " 'Banana': 'FLOAT',\n",
    " 'Pera': 'FLOAT',\n",
    " 'Batata': 'FLOAT',\n",
    " 'Papa': 'FLOAT',\n",
    " 'Acelga': 'FLOAT',\n",
    " 'Cebolla': 'FLOAT',\n",
    " 'Choclo': 'FLOAT',\n",
    " 'Lechuga': 'FLOAT',\n",
    " 'Tomate_perita': 'FLOAT',\n",
    " 'Zanahoria': 'FLOAT',\n",
    " 'Zapallo': 'FLOAT',\n",
    " 'Tomate_envasado': 'FLOAT',\n",
    " 'Arvejas_en_lata': 'FLOAT',\n",
    " 'Lentejas_secas': 'FLOAT',\n",
    " 'Azucar': 'FLOAT',\n",
    " 'Dulce_de_batata': 'FLOAT',\n",
    " 'Mermelada': 'FLOAT',\n",
    " 'Sal_fina': 'FLOAT',\n",
    " 'Mayonesa': 'FLOAT',\n",
    " 'Vinagre': 'FLOAT',\n",
    " 'Caldo_concentrado': 'FLOAT',\n",
    " 'Gaseosas': 'FLOAT',\n",
    " 'Jugos_Concentrados': 'FLOAT',\n",
    " 'Soda': 'FLOAT',\n",
    " 'Cerveza': 'FLOAT',\n",
    " 'Vino': 'FLOAT',\n",
    " 'Cafe': 'FLOAT',\n",
    " 'Yerba': 'FLOAT',\n",
    " 'Te_en_saquitos': 'FLOAT'}\n",
    "\n",
    "# Crear la tabla para almacenar los precios\n",
    "with conn.cursor() as cur:\n",
    "    cur.execute(\"DROP TABLE IF EXISTS precios\")\n",
    "    columnas = []\n",
    "    for columna, tipo in tabla.items():\n",
    "        columnas.append(f'{columna} {tipo}')\n",
    "    \n",
    "    query = f'CREATE TABLE precios ({\", \".join(columnas)})'\n",
    "    cur.execute(query)\n",
    "    conn.commit()"
   ]
  }
 ],
 "metadata": {
  "kernelspec": {
   "display_name": "venv",
   "language": "python",
   "name": "python3"
  },
  "language_info": {
   "codemirror_mode": {
    "name": "ipython",
    "version": 3
   },
   "file_extension": ".py",
   "mimetype": "text/x-python",
   "name": "python",
   "nbconvert_exporter": "python",
   "pygments_lexer": "ipython3",
   "version": "3.10.10"
  },
  "orig_nbformat": 4,
  "vscode": {
   "interpreter": {
    "hash": "0a669cacaf63c8e37c1f0c15a573898667910e1834377f00e6456158f1a460cf"
   }
  }
 },
 "nbformat": 4,
 "nbformat_minor": 2
}
